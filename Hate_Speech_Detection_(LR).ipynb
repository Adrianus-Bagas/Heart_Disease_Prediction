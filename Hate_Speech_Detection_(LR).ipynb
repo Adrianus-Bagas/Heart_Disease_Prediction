{
  "cells": [
    {
      "cell_type": "markdown",
      "metadata": {
        "id": "view-in-github",
        "colab_type": "text"
      },
      "source": [
        "<a href=\"https://colab.research.google.com/github/Adrianus-Bagas/Heart_Disease_Prediction/blob/main/Hate_Speech_Detection_(LR).ipynb\" target=\"_parent\"><img src=\"https://colab.research.google.com/assets/colab-badge.svg\" alt=\"Open In Colab\"/></a>"
      ]
    },
    {
      "cell_type": "markdown",
      "metadata": {
        "id": "7-l4y3uYhL8X"
      },
      "source": [
        "# Deteksi Ujaran Kebencian Menggunakan Metode Naive Bayes, Decision Tree, Logistic Regression, Support Vector Machine, dan Artificial Neural Network"
      ]
    },
    {
      "cell_type": "markdown",
      "metadata": {
        "id": "PHPqpTBXhZ7M"
      },
      "source": [
        "## 1. Import beberapa libraries"
      ]
    },
    {
      "cell_type": "code",
      "execution_count": null,
      "metadata": {
        "id": "84gBdZZFwZu-"
      },
      "outputs": [],
      "source": [
        "import pandas as pd\n",
        "import numpy as np\n",
        "from sklearn.linear_model import LogisticRegression\n",
        "from sklearn.feature_extraction.text import TfidfVectorizer\n",
        "from wordcloud import WordCloud, STOPWORDS, ImageColorGenerator\n",
        "import matplotlib.pyplot as plt\n",
        "import seaborn as sns"
      ]
    },
    {
      "cell_type": "markdown",
      "metadata": {
        "id": "s6ntst-L5fYd"
      },
      "source": [
        "## 2. Memuat data"
      ]
    },
    {
      "cell_type": "code",
      "execution_count": null,
      "metadata": {
        "colab": {
          "base_uri": "https://localhost:8080/"
        },
        "id": "9D_sTmEktiOz",
        "outputId": "6088d1ba-781c-44a4-e5f4-c820567642db"
      },
      "outputs": [
        {
          "output_type": "stream",
          "name": "stdout",
          "text": [
            "Mounted at /content/drive\n"
          ]
        }
      ],
      "source": [
        "from google.colab import drive\n",
        "drive.mount('/content/drive')"
      ]
    },
    {
      "cell_type": "code",
      "execution_count": null,
      "metadata": {
        "colab": {
          "base_uri": "https://localhost:8080/",
          "height": 424
        },
        "id": "EtR9JVNttm9B",
        "outputId": "b9f6d003-f847-4b26-8836-eae678f8c08c"
      },
      "outputs": [
        {
          "output_type": "execute_result",
          "data": {
            "text/plain": [
              "      Unnamed: 0   Label                                              Tweet  \\\n",
              "0              0  Non_HS  RT @spardaxyz: Fadli Zon Minta Mendagri Segera...   \n",
              "1              1  Non_HS  RT @baguscondromowo: Mereka terus melukai aksi...   \n",
              "2              2  Non_HS  Sylvi: bagaimana gurbernur melakukan kekerasan...   \n",
              "3              3  Non_HS  Ahmad Dhani Tak Puas Debat Pilkada, Masalah Ja...   \n",
              "4              4  Non_HS  RT @lisdaulay28: Waspada KTP palsu.....kawal P...   \n",
              "...          ...     ...                                                ...   \n",
              "2695        2724      HS  Yagimanasih anjir gue dirumah doang dari pagi ...   \n",
              "2696        2725  Non_HS  Yah sekian pandangan awam dari saya wkwwk seka...   \n",
              "2697        2726      HS       yang butuh memek hubungi rp haneul terdekat'   \n",
              "2698        2727      HS  Yang sabar gua mah punya adek2 kunyuk yg bau k...   \n",
              "2699        2728      HS  yg didepan pada minggir buat ngasih jalan yg t...   \n",
              "\n",
              "                                        hasil_praproses  \n",
              "0     spardaxyz fadli zon mendagri nonaktif ahok gub...  \n",
              "1     baguscondromowo luka aksi rangka penjara ahok ...  \n",
              "2     sylvi gurbernur keras perempuan bukti foto bar...  \n",
              "3     ahmad dhani puas debat pilkada jalan bekas ungkap  \n",
              "4              lisdaulay waspada ktp palsukawal pilkada  \n",
              "...                                                 ...  \n",
              "2695  yagimanasih anjir rumah doang pagi gangerti ar...  \n",
              "2696  yah sekian pandang awam wkwwk lg cuman pandang...  \n",
              "2697                 butuh memek hubung rp haneul dekat  \n",
              "2698   sabar gua mah adek kunyuk yg bau kek sempak kuda  \n",
              "2699  yg depan minggir ngasih jalan yg turun eh yg m...  \n",
              "\n",
              "[2700 rows x 4 columns]"
            ],
            "text/html": [
              "\n",
              "  <div id=\"df-1ec879c7-a201-4f77-9341-4bcc61643ca6\">\n",
              "    <div class=\"colab-df-container\">\n",
              "      <div>\n",
              "<style scoped>\n",
              "    .dataframe tbody tr th:only-of-type {\n",
              "        vertical-align: middle;\n",
              "    }\n",
              "\n",
              "    .dataframe tbody tr th {\n",
              "        vertical-align: top;\n",
              "    }\n",
              "\n",
              "    .dataframe thead th {\n",
              "        text-align: right;\n",
              "    }\n",
              "</style>\n",
              "<table border=\"1\" class=\"dataframe\">\n",
              "  <thead>\n",
              "    <tr style=\"text-align: right;\">\n",
              "      <th></th>\n",
              "      <th>Unnamed: 0</th>\n",
              "      <th>Label</th>\n",
              "      <th>Tweet</th>\n",
              "      <th>hasil_praproses</th>\n",
              "    </tr>\n",
              "  </thead>\n",
              "  <tbody>\n",
              "    <tr>\n",
              "      <th>0</th>\n",
              "      <td>0</td>\n",
              "      <td>Non_HS</td>\n",
              "      <td>RT @spardaxyz: Fadli Zon Minta Mendagri Segera...</td>\n",
              "      <td>spardaxyz fadli zon mendagri nonaktif ahok gub...</td>\n",
              "    </tr>\n",
              "    <tr>\n",
              "      <th>1</th>\n",
              "      <td>1</td>\n",
              "      <td>Non_HS</td>\n",
              "      <td>RT @baguscondromowo: Mereka terus melukai aksi...</td>\n",
              "      <td>baguscondromowo luka aksi rangka penjara ahok ...</td>\n",
              "    </tr>\n",
              "    <tr>\n",
              "      <th>2</th>\n",
              "      <td>2</td>\n",
              "      <td>Non_HS</td>\n",
              "      <td>Sylvi: bagaimana gurbernur melakukan kekerasan...</td>\n",
              "      <td>sylvi gurbernur keras perempuan bukti foto bar...</td>\n",
              "    </tr>\n",
              "    <tr>\n",
              "      <th>3</th>\n",
              "      <td>3</td>\n",
              "      <td>Non_HS</td>\n",
              "      <td>Ahmad Dhani Tak Puas Debat Pilkada, Masalah Ja...</td>\n",
              "      <td>ahmad dhani puas debat pilkada jalan bekas ungkap</td>\n",
              "    </tr>\n",
              "    <tr>\n",
              "      <th>4</th>\n",
              "      <td>4</td>\n",
              "      <td>Non_HS</td>\n",
              "      <td>RT @lisdaulay28: Waspada KTP palsu.....kawal P...</td>\n",
              "      <td>lisdaulay waspada ktp palsukawal pilkada</td>\n",
              "    </tr>\n",
              "    <tr>\n",
              "      <th>...</th>\n",
              "      <td>...</td>\n",
              "      <td>...</td>\n",
              "      <td>...</td>\n",
              "      <td>...</td>\n",
              "    </tr>\n",
              "    <tr>\n",
              "      <th>2695</th>\n",
              "      <td>2724</td>\n",
              "      <td>HS</td>\n",
              "      <td>Yagimanasih anjir gue dirumah doang dari pagi ...</td>\n",
              "      <td>yagimanasih anjir rumah doang pagi gangerti ar...</td>\n",
              "    </tr>\n",
              "    <tr>\n",
              "      <th>2696</th>\n",
              "      <td>2725</td>\n",
              "      <td>Non_HS</td>\n",
              "      <td>Yah sekian pandangan awam dari saya wkwwk seka...</td>\n",
              "      <td>yah sekian pandang awam wkwwk lg cuman pandang...</td>\n",
              "    </tr>\n",
              "    <tr>\n",
              "      <th>2697</th>\n",
              "      <td>2726</td>\n",
              "      <td>HS</td>\n",
              "      <td>yang butuh memek hubungi rp haneul terdekat'</td>\n",
              "      <td>butuh memek hubung rp haneul dekat</td>\n",
              "    </tr>\n",
              "    <tr>\n",
              "      <th>2698</th>\n",
              "      <td>2727</td>\n",
              "      <td>HS</td>\n",
              "      <td>Yang sabar gua mah punya adek2 kunyuk yg bau k...</td>\n",
              "      <td>sabar gua mah adek kunyuk yg bau kek sempak kuda</td>\n",
              "    </tr>\n",
              "    <tr>\n",
              "      <th>2699</th>\n",
              "      <td>2728</td>\n",
              "      <td>HS</td>\n",
              "      <td>yg didepan pada minggir buat ngasih jalan yg t...</td>\n",
              "      <td>yg depan minggir ngasih jalan yg turun eh yg m...</td>\n",
              "    </tr>\n",
              "  </tbody>\n",
              "</table>\n",
              "<p>2700 rows × 4 columns</p>\n",
              "</div>\n",
              "      <button class=\"colab-df-convert\" onclick=\"convertToInteractive('df-1ec879c7-a201-4f77-9341-4bcc61643ca6')\"\n",
              "              title=\"Convert this dataframe to an interactive table.\"\n",
              "              style=\"display:none;\">\n",
              "        \n",
              "  <svg xmlns=\"http://www.w3.org/2000/svg\" height=\"24px\"viewBox=\"0 0 24 24\"\n",
              "       width=\"24px\">\n",
              "    <path d=\"M0 0h24v24H0V0z\" fill=\"none\"/>\n",
              "    <path d=\"M18.56 5.44l.94 2.06.94-2.06 2.06-.94-2.06-.94-.94-2.06-.94 2.06-2.06.94zm-11 1L8.5 8.5l.94-2.06 2.06-.94-2.06-.94L8.5 2.5l-.94 2.06-2.06.94zm10 10l.94 2.06.94-2.06 2.06-.94-2.06-.94-.94-2.06-.94 2.06-2.06.94z\"/><path d=\"M17.41 7.96l-1.37-1.37c-.4-.4-.92-.59-1.43-.59-.52 0-1.04.2-1.43.59L10.3 9.45l-7.72 7.72c-.78.78-.78 2.05 0 2.83L4 21.41c.39.39.9.59 1.41.59.51 0 1.02-.2 1.41-.59l7.78-7.78 2.81-2.81c.8-.78.8-2.07 0-2.86zM5.41 20L4 18.59l7.72-7.72 1.47 1.35L5.41 20z\"/>\n",
              "  </svg>\n",
              "      </button>\n",
              "      \n",
              "  <style>\n",
              "    .colab-df-container {\n",
              "      display:flex;\n",
              "      flex-wrap:wrap;\n",
              "      gap: 12px;\n",
              "    }\n",
              "\n",
              "    .colab-df-convert {\n",
              "      background-color: #E8F0FE;\n",
              "      border: none;\n",
              "      border-radius: 50%;\n",
              "      cursor: pointer;\n",
              "      display: none;\n",
              "      fill: #1967D2;\n",
              "      height: 32px;\n",
              "      padding: 0 0 0 0;\n",
              "      width: 32px;\n",
              "    }\n",
              "\n",
              "    .colab-df-convert:hover {\n",
              "      background-color: #E2EBFA;\n",
              "      box-shadow: 0px 1px 2px rgba(60, 64, 67, 0.3), 0px 1px 3px 1px rgba(60, 64, 67, 0.15);\n",
              "      fill: #174EA6;\n",
              "    }\n",
              "\n",
              "    [theme=dark] .colab-df-convert {\n",
              "      background-color: #3B4455;\n",
              "      fill: #D2E3FC;\n",
              "    }\n",
              "\n",
              "    [theme=dark] .colab-df-convert:hover {\n",
              "      background-color: #434B5C;\n",
              "      box-shadow: 0px 1px 3px 1px rgba(0, 0, 0, 0.15);\n",
              "      filter: drop-shadow(0px 1px 2px rgba(0, 0, 0, 0.3));\n",
              "      fill: #FFFFFF;\n",
              "    }\n",
              "  </style>\n",
              "\n",
              "      <script>\n",
              "        const buttonEl =\n",
              "          document.querySelector('#df-1ec879c7-a201-4f77-9341-4bcc61643ca6 button.colab-df-convert');\n",
              "        buttonEl.style.display =\n",
              "          google.colab.kernel.accessAllowed ? 'block' : 'none';\n",
              "\n",
              "        async function convertToInteractive(key) {\n",
              "          const element = document.querySelector('#df-1ec879c7-a201-4f77-9341-4bcc61643ca6');\n",
              "          const dataTable =\n",
              "            await google.colab.kernel.invokeFunction('convertToInteractive',\n",
              "                                                     [key], {});\n",
              "          if (!dataTable) return;\n",
              "\n",
              "          const docLinkHtml = 'Like what you see? Visit the ' +\n",
              "            '<a target=\"_blank\" href=https://colab.research.google.com/notebooks/data_table.ipynb>data table notebook</a>'\n",
              "            + ' to learn more about interactive tables.';\n",
              "          element.innerHTML = '';\n",
              "          dataTable['output_type'] = 'display_data';\n",
              "          await google.colab.output.renderOutput(dataTable, element);\n",
              "          const docLink = document.createElement('div');\n",
              "          docLink.innerHTML = docLinkHtml;\n",
              "          element.appendChild(docLink);\n",
              "        }\n",
              "      </script>\n",
              "    </div>\n",
              "  </div>\n",
              "  "
            ]
          },
          "metadata": {},
          "execution_count": 3
        }
      ],
      "source": [
        "df = pd.read_csv('/content/drive/MyDrive/dataset/project 4.csv')\n",
        "df"
      ]
    },
    {
      "cell_type": "markdown",
      "metadata": {
        "id": "0z-kKZBy5F45"
      },
      "source": [
        "Keterangan Label\n",
        "1. Non_HS = Baik\n",
        "2. HS = Buruk"
      ]
    },
    {
      "cell_type": "markdown",
      "source": [
        "# 4. Model"
      ],
      "metadata": {
        "id": "--jSO6cLxBqu"
      }
    },
    {
      "cell_type": "code",
      "execution_count": null,
      "metadata": {
        "id": "IbhwrQ6q9cVM",
        "colab": {
          "base_uri": "https://localhost:8080/",
          "height": 424
        },
        "outputId": "9512fe3c-037c-4b9c-8f1b-74f503e1a948"
      },
      "outputs": [
        {
          "output_type": "execute_result",
          "data": {
            "text/plain": [
              "      Unnamed: 0  Label                                              Tweet  \\\n",
              "0              0      0  RT @spardaxyz: Fadli Zon Minta Mendagri Segera...   \n",
              "1              1      0  RT @baguscondromowo: Mereka terus melukai aksi...   \n",
              "2              2      0  Sylvi: bagaimana gurbernur melakukan kekerasan...   \n",
              "3              3      0  Ahmad Dhani Tak Puas Debat Pilkada, Masalah Ja...   \n",
              "4              4      0  RT @lisdaulay28: Waspada KTP palsu.....kawal P...   \n",
              "...          ...    ...                                                ...   \n",
              "2695        2724      1  Yagimanasih anjir gue dirumah doang dari pagi ...   \n",
              "2696        2725      0  Yah sekian pandangan awam dari saya wkwwk seka...   \n",
              "2697        2726      1       yang butuh memek hubungi rp haneul terdekat'   \n",
              "2698        2727      1  Yang sabar gua mah punya adek2 kunyuk yg bau k...   \n",
              "2699        2728      1  yg didepan pada minggir buat ngasih jalan yg t...   \n",
              "\n",
              "                                        hasil_praproses  \n",
              "0     spardaxyz fadli zon mendagri nonaktif ahok gub...  \n",
              "1     baguscondromowo luka aksi rangka penjara ahok ...  \n",
              "2     sylvi gurbernur keras perempuan bukti foto bar...  \n",
              "3     ahmad dhani puas debat pilkada jalan bekas ungkap  \n",
              "4              lisdaulay waspada ktp palsukawal pilkada  \n",
              "...                                                 ...  \n",
              "2695  yagimanasih anjir rumah doang pagi gangerti ar...  \n",
              "2696  yah sekian pandang awam wkwwk lg cuman pandang...  \n",
              "2697                 butuh memek hubung rp haneul dekat  \n",
              "2698   sabar gua mah adek kunyuk yg bau kek sempak kuda  \n",
              "2699  yg depan minggir ngasih jalan yg turun eh yg m...  \n",
              "\n",
              "[2700 rows x 4 columns]"
            ],
            "text/html": [
              "\n",
              "  <div id=\"df-81281769-1951-4df5-9047-36b31168812f\">\n",
              "    <div class=\"colab-df-container\">\n",
              "      <div>\n",
              "<style scoped>\n",
              "    .dataframe tbody tr th:only-of-type {\n",
              "        vertical-align: middle;\n",
              "    }\n",
              "\n",
              "    .dataframe tbody tr th {\n",
              "        vertical-align: top;\n",
              "    }\n",
              "\n",
              "    .dataframe thead th {\n",
              "        text-align: right;\n",
              "    }\n",
              "</style>\n",
              "<table border=\"1\" class=\"dataframe\">\n",
              "  <thead>\n",
              "    <tr style=\"text-align: right;\">\n",
              "      <th></th>\n",
              "      <th>Unnamed: 0</th>\n",
              "      <th>Label</th>\n",
              "      <th>Tweet</th>\n",
              "      <th>hasil_praproses</th>\n",
              "    </tr>\n",
              "  </thead>\n",
              "  <tbody>\n",
              "    <tr>\n",
              "      <th>0</th>\n",
              "      <td>0</td>\n",
              "      <td>0</td>\n",
              "      <td>RT @spardaxyz: Fadli Zon Minta Mendagri Segera...</td>\n",
              "      <td>spardaxyz fadli zon mendagri nonaktif ahok gub...</td>\n",
              "    </tr>\n",
              "    <tr>\n",
              "      <th>1</th>\n",
              "      <td>1</td>\n",
              "      <td>0</td>\n",
              "      <td>RT @baguscondromowo: Mereka terus melukai aksi...</td>\n",
              "      <td>baguscondromowo luka aksi rangka penjara ahok ...</td>\n",
              "    </tr>\n",
              "    <tr>\n",
              "      <th>2</th>\n",
              "      <td>2</td>\n",
              "      <td>0</td>\n",
              "      <td>Sylvi: bagaimana gurbernur melakukan kekerasan...</td>\n",
              "      <td>sylvi gurbernur keras perempuan bukti foto bar...</td>\n",
              "    </tr>\n",
              "    <tr>\n",
              "      <th>3</th>\n",
              "      <td>3</td>\n",
              "      <td>0</td>\n",
              "      <td>Ahmad Dhani Tak Puas Debat Pilkada, Masalah Ja...</td>\n",
              "      <td>ahmad dhani puas debat pilkada jalan bekas ungkap</td>\n",
              "    </tr>\n",
              "    <tr>\n",
              "      <th>4</th>\n",
              "      <td>4</td>\n",
              "      <td>0</td>\n",
              "      <td>RT @lisdaulay28: Waspada KTP palsu.....kawal P...</td>\n",
              "      <td>lisdaulay waspada ktp palsukawal pilkada</td>\n",
              "    </tr>\n",
              "    <tr>\n",
              "      <th>...</th>\n",
              "      <td>...</td>\n",
              "      <td>...</td>\n",
              "      <td>...</td>\n",
              "      <td>...</td>\n",
              "    </tr>\n",
              "    <tr>\n",
              "      <th>2695</th>\n",
              "      <td>2724</td>\n",
              "      <td>1</td>\n",
              "      <td>Yagimanasih anjir gue dirumah doang dari pagi ...</td>\n",
              "      <td>yagimanasih anjir rumah doang pagi gangerti ar...</td>\n",
              "    </tr>\n",
              "    <tr>\n",
              "      <th>2696</th>\n",
              "      <td>2725</td>\n",
              "      <td>0</td>\n",
              "      <td>Yah sekian pandangan awam dari saya wkwwk seka...</td>\n",
              "      <td>yah sekian pandang awam wkwwk lg cuman pandang...</td>\n",
              "    </tr>\n",
              "    <tr>\n",
              "      <th>2697</th>\n",
              "      <td>2726</td>\n",
              "      <td>1</td>\n",
              "      <td>yang butuh memek hubungi rp haneul terdekat'</td>\n",
              "      <td>butuh memek hubung rp haneul dekat</td>\n",
              "    </tr>\n",
              "    <tr>\n",
              "      <th>2698</th>\n",
              "      <td>2727</td>\n",
              "      <td>1</td>\n",
              "      <td>Yang sabar gua mah punya adek2 kunyuk yg bau k...</td>\n",
              "      <td>sabar gua mah adek kunyuk yg bau kek sempak kuda</td>\n",
              "    </tr>\n",
              "    <tr>\n",
              "      <th>2699</th>\n",
              "      <td>2728</td>\n",
              "      <td>1</td>\n",
              "      <td>yg didepan pada minggir buat ngasih jalan yg t...</td>\n",
              "      <td>yg depan minggir ngasih jalan yg turun eh yg m...</td>\n",
              "    </tr>\n",
              "  </tbody>\n",
              "</table>\n",
              "<p>2700 rows × 4 columns</p>\n",
              "</div>\n",
              "      <button class=\"colab-df-convert\" onclick=\"convertToInteractive('df-81281769-1951-4df5-9047-36b31168812f')\"\n",
              "              title=\"Convert this dataframe to an interactive table.\"\n",
              "              style=\"display:none;\">\n",
              "        \n",
              "  <svg xmlns=\"http://www.w3.org/2000/svg\" height=\"24px\"viewBox=\"0 0 24 24\"\n",
              "       width=\"24px\">\n",
              "    <path d=\"M0 0h24v24H0V0z\" fill=\"none\"/>\n",
              "    <path d=\"M18.56 5.44l.94 2.06.94-2.06 2.06-.94-2.06-.94-.94-2.06-.94 2.06-2.06.94zm-11 1L8.5 8.5l.94-2.06 2.06-.94-2.06-.94L8.5 2.5l-.94 2.06-2.06.94zm10 10l.94 2.06.94-2.06 2.06-.94-2.06-.94-.94-2.06-.94 2.06-2.06.94z\"/><path d=\"M17.41 7.96l-1.37-1.37c-.4-.4-.92-.59-1.43-.59-.52 0-1.04.2-1.43.59L10.3 9.45l-7.72 7.72c-.78.78-.78 2.05 0 2.83L4 21.41c.39.39.9.59 1.41.59.51 0 1.02-.2 1.41-.59l7.78-7.78 2.81-2.81c.8-.78.8-2.07 0-2.86zM5.41 20L4 18.59l7.72-7.72 1.47 1.35L5.41 20z\"/>\n",
              "  </svg>\n",
              "      </button>\n",
              "      \n",
              "  <style>\n",
              "    .colab-df-container {\n",
              "      display:flex;\n",
              "      flex-wrap:wrap;\n",
              "      gap: 12px;\n",
              "    }\n",
              "\n",
              "    .colab-df-convert {\n",
              "      background-color: #E8F0FE;\n",
              "      border: none;\n",
              "      border-radius: 50%;\n",
              "      cursor: pointer;\n",
              "      display: none;\n",
              "      fill: #1967D2;\n",
              "      height: 32px;\n",
              "      padding: 0 0 0 0;\n",
              "      width: 32px;\n",
              "    }\n",
              "\n",
              "    .colab-df-convert:hover {\n",
              "      background-color: #E2EBFA;\n",
              "      box-shadow: 0px 1px 2px rgba(60, 64, 67, 0.3), 0px 1px 3px 1px rgba(60, 64, 67, 0.15);\n",
              "      fill: #174EA6;\n",
              "    }\n",
              "\n",
              "    [theme=dark] .colab-df-convert {\n",
              "      background-color: #3B4455;\n",
              "      fill: #D2E3FC;\n",
              "    }\n",
              "\n",
              "    [theme=dark] .colab-df-convert:hover {\n",
              "      background-color: #434B5C;\n",
              "      box-shadow: 0px 1px 3px 1px rgba(0, 0, 0, 0.15);\n",
              "      filter: drop-shadow(0px 1px 2px rgba(0, 0, 0, 0.3));\n",
              "      fill: #FFFFFF;\n",
              "    }\n",
              "  </style>\n",
              "\n",
              "      <script>\n",
              "        const buttonEl =\n",
              "          document.querySelector('#df-81281769-1951-4df5-9047-36b31168812f button.colab-df-convert');\n",
              "        buttonEl.style.display =\n",
              "          google.colab.kernel.accessAllowed ? 'block' : 'none';\n",
              "\n",
              "        async function convertToInteractive(key) {\n",
              "          const element = document.querySelector('#df-81281769-1951-4df5-9047-36b31168812f');\n",
              "          const dataTable =\n",
              "            await google.colab.kernel.invokeFunction('convertToInteractive',\n",
              "                                                     [key], {});\n",
              "          if (!dataTable) return;\n",
              "\n",
              "          const docLinkHtml = 'Like what you see? Visit the ' +\n",
              "            '<a target=\"_blank\" href=https://colab.research.google.com/notebooks/data_table.ipynb>data table notebook</a>'\n",
              "            + ' to learn more about interactive tables.';\n",
              "          element.innerHTML = '';\n",
              "          dataTable['output_type'] = 'display_data';\n",
              "          await google.colab.output.renderOutput(dataTable, element);\n",
              "          const docLink = document.createElement('div');\n",
              "          docLink.innerHTML = docLinkHtml;\n",
              "          element.appendChild(docLink);\n",
              "        }\n",
              "      </script>\n",
              "    </div>\n",
              "  </div>\n",
              "  "
            ]
          },
          "metadata": {},
          "execution_count": 4
        }
      ],
      "source": [
        "X = df['hasil_praproses']\n",
        "df['Label'] = df['Label'].apply(lambda x: 1 if x == 'HS' else 0)\n",
        "df"
      ]
    },
    {
      "cell_type": "code",
      "source": [
        "Y = df[\"Label\"]\n",
        "Y"
      ],
      "metadata": {
        "colab": {
          "base_uri": "https://localhost:8080/"
        },
        "id": "vXRLbUhz0z8A",
        "outputId": "546c6b0b-2ea0-463f-ba91-0866faf0277e"
      },
      "execution_count": null,
      "outputs": [
        {
          "output_type": "execute_result",
          "data": {
            "text/plain": [
              "0       0\n",
              "1       0\n",
              "2       0\n",
              "3       0\n",
              "4       0\n",
              "       ..\n",
              "2695    1\n",
              "2696    0\n",
              "2697    1\n",
              "2698    1\n",
              "2699    1\n",
              "Name: Label, Length: 2700, dtype: int64"
            ]
          },
          "metadata": {},
          "execution_count": 5
        }
      ]
    },
    {
      "cell_type": "markdown",
      "source": [
        "Catatan\n",
        "0 = Non_HS\n",
        "1 = HS"
      ],
      "metadata": {
        "id": "loCnAj9zSZzY"
      }
    },
    {
      "cell_type": "code",
      "source": [
        "tfidf_vectorizer = TfidfVectorizer()\n",
        "tfidf_vector = tfidf_vectorizer.fit_transform(X).toarray()\n",
        "tfidf_vector.shape"
      ],
      "metadata": {
        "colab": {
          "base_uri": "https://localhost:8080/"
        },
        "id": "waMdWJaA1F0a",
        "outputId": "d7f3079f-231f-450b-f49b-16f5c5a91c66"
      },
      "execution_count": null,
      "outputs": [
        {
          "output_type": "execute_result",
          "data": {
            "text/plain": [
              "(2700, 7678)"
            ]
          },
          "metadata": {},
          "execution_count": 6
        }
      ]
    },
    {
      "cell_type": "code",
      "source": [
        "print(df['Label'].value_counts())"
      ],
      "metadata": {
        "colab": {
          "base_uri": "https://localhost:8080/"
        },
        "id": "qXG9rZ2Y1v0S",
        "outputId": "66bbfa05-9018-4617-878a-2b667f70fe3a"
      },
      "execution_count": null,
      "outputs": [
        {
          "output_type": "stream",
          "name": "stdout",
          "text": [
            "1    1935\n",
            "0     765\n",
            "Name: Label, dtype: int64\n"
          ]
        }
      ]
    },
    {
      "cell_type": "code",
      "source": [
        "from imblearn.over_sampling import SMOTE\n",
        "sampler = SMOTE()\n",
        "tfidf_vector, Y = sampler.fit_resample(tfidf_vector, Y)\n",
        "tfidf_vector.shape"
      ],
      "metadata": {
        "colab": {
          "base_uri": "https://localhost:8080/"
        },
        "id": "4c9Z0fEE1WFH",
        "outputId": "b8301770-a7e7-451a-9ed7-9f7ae145ca14"
      },
      "execution_count": null,
      "outputs": [
        {
          "output_type": "execute_result",
          "data": {
            "text/plain": [
              "(3870, 7678)"
            ]
          },
          "metadata": {},
          "execution_count": 8
        }
      ]
    },
    {
      "cell_type": "code",
      "source": [
        "from sklearn.model_selection import train_test_split\n",
        "X_train, X_test, Y_train, Y_test = train_test_split(tfidf_vector, Y, test_size=0.2, shuffle=True, random_state=42)"
      ],
      "metadata": {
        "id": "s9jFJ3uM19e3"
      },
      "execution_count": null,
      "outputs": []
    },
    {
      "cell_type": "code",
      "source": [
        "X_train.shape"
      ],
      "metadata": {
        "colab": {
          "base_uri": "https://localhost:8080/"
        },
        "id": "yojK-lWRJPTy",
        "outputId": "c08bc655-715e-46d5-819c-1e14a07bd5d6"
      },
      "execution_count": null,
      "outputs": [
        {
          "output_type": "execute_result",
          "data": {
            "text/plain": [
              "(3096, 7678)"
            ]
          },
          "metadata": {},
          "execution_count": 10
        }
      ]
    },
    {
      "cell_type": "code",
      "source": [
        "lr = LogisticRegression()\n",
        "lr.fit(X_train, Y_train)\n",
        "y_pred_lr = lr.predict(X_test)"
      ],
      "metadata": {
        "id": "nv_Ph6eQ2aTU"
      },
      "execution_count": null,
      "outputs": []
    },
    {
      "cell_type": "code",
      "source": [
        "print(lr.score(X_train, Y_train))\n",
        "print(lr.score(X_test, Y_test))"
      ],
      "metadata": {
        "id": "sSGmpJQC2mHj",
        "colab": {
          "base_uri": "https://localhost:8080/"
        },
        "outputId": "316cfd96-cb8a-4174-c07e-71de682e9f8f"
      },
      "execution_count": null,
      "outputs": [
        {
          "output_type": "stream",
          "name": "stdout",
          "text": [
            "0.96156330749354\n",
            "0.9082687338501292\n"
          ]
        }
      ]
    },
    {
      "cell_type": "code",
      "source": [
        "from mlxtend.plotting import plot_confusion_matrix\n",
        "from sklearn import metrics"
      ],
      "metadata": {
        "id": "QGaA27CD4dLP"
      },
      "execution_count": null,
      "outputs": []
    },
    {
      "cell_type": "code",
      "source": [
        "def print_conf(y_test, result, classes, title='Confusion matrix'):\n",
        "  conf_matrix = metrics.confusion_matrix(y_test, result)\n",
        "  plt.figure(figsize=(6,6))\n",
        "  sns.heatmap(conf_matrix, \n",
        "              annot=True,\n",
        "              xticklabels=classes, \n",
        "              yticklabels=classes,\n",
        "              cmap=\"Blues\",\n",
        "              fmt='d')\n",
        "  plt.ylabel('Actual')\n",
        "  plt.xlabel('Predicted')\n",
        "  plt.title(title)\n",
        "  plt.show()"
      ],
      "metadata": {
        "id": "E5v1xwPqAdgz"
      },
      "execution_count": null,
      "outputs": []
    },
    {
      "cell_type": "code",
      "source": [
        "print_conf(Y_test, y_pred_lr, [0, 1], title=\"Confusion matrix LR\")"
      ],
      "metadata": {
        "id": "dOVbmgREySaK",
        "colab": {
          "base_uri": "https://localhost:8080/",
          "height": 404
        },
        "outputId": "7f826e86-626e-4299-e2c2-7bd0dfa6163e"
      },
      "execution_count": null,
      "outputs": [
        {
          "output_type": "display_data",
          "data": {
            "text/plain": [
              "<Figure size 432x432 with 2 Axes>"
            ],
            "image/png": "[encoded data removed]"
          },
          "metadata": {
            "needs_background": "light"
          }
        }
      ]
    },
    {
      "cell_type": "code",
      "source": [],
      "metadata": {
        "id": "DreyVdOsAzmK"
      },
      "execution_count": null,
      "outputs": []
    }
  ],
  "metadata": {
    "colab": {
      "collapsed_sections": [],
      "provenance": [],
      "authorship_tag": "ABX9TyM2iPMUYfEGJdgGix7ZYq5A",
      "include_colab_link": true
    },
    "gpuClass": "standard",
    "kernelspec": {
      "display_name": "Python 3",
      "name": "python3"
    },
    "language_info": {
      "name": "python"
    }
  },
  "nbformat": 4,
  "nbformat_minor": 0
}